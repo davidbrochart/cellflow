{
 "cells": [
  {
   "cell_type": "markdown",
   "metadata": {},
   "source": [
    "# A step towards a reactive notebook"
   ]
  },
  {
   "cell_type": "markdown",
   "metadata": {},
   "source": [
    "### This is a proof of concept for an API that aims to automate the data flow in a notebook. It uses the IPython magic functions `onchange` to specify how variables depend on each other in a cell, and `compute` to get the desired results. The dependency resolution is automatically taken care of, and the computations only occur if needed."
   ]
  },
  {
   "cell_type": "code",
   "execution_count": 1,
   "metadata": {},
   "outputs": [],
   "source": [
    "from IPython.core.magic import Magics, magics_class, line_cell_magic, cell_magic\n",
    "\n",
    "@magics_class\n",
    "class Flow(Magics):\n",
    "\n",
    "    flow = {}\n",
    "\n",
    "    @cell_magic\n",
    "    def onchange(self, line, cell):\n",
    "        '''\n",
    "        Syntax is:\n",
    "        \n",
    "        %%onchange a, b -> c, d\n",
    "        ...code for the computation...\n",
    "        \n",
    "        Means if a or b change, c and d will be computed through the cell code.\n",
    "        '''\n",
    "        i = line.find('->')\n",
    "        if i < 0:\n",
    "            i = len(line)\n",
    "            outputs = []\n",
    "        else:\n",
    "            outputs = line[i+2:].replace(',', ' ').split()\n",
    "        inputs = line[:i].replace(',', ' ').split()\n",
    "        flow = type(self).flow\n",
    "        for varname in outputs:\n",
    "            if varname not in flow:\n",
    "                flow[varname] = {}\n",
    "            flow[varname]['in'] = {i:[] for i in inputs}\n",
    "            flow[varname]['out'] = outputs\n",
    "            flow[varname]['code'] = cell\n",
    "\n",
    "    @line_cell_magic\n",
    "    def compute(self, line, cell=None):\n",
    "        '''\n",
    "        Syntax is:\n",
    "        \n",
    "        %compute c, d\n",
    "        \n",
    "        or:\n",
    "        \n",
    "        %%compute c, d\n",
    "        ...additional code (like result printing)...\n",
    "        \n",
    "        Will figure out the data flow and optimally compute the results.\n",
    "        '''\n",
    "        varnames = line.replace(',', ' ').split()\n",
    "        flow = type(self).flow\n",
    "        done = False\n",
    "        paths = [[varname] for varname in varnames]\n",
    "        # back-trace all variables to be computed\n",
    "        while not done:\n",
    "            done = True\n",
    "            i_path = 0\n",
    "            while i_path < len(paths):\n",
    "                path = paths[i_path]\n",
    "                varname = path[0] # source variable\n",
    "                has_dep = False\n",
    "                if varname in flow: # variable depends on other variable(s)\n",
    "                    for dep in flow[varname]['in']:\n",
    "                        has_dep = True\n",
    "                        paths.append([dep] + path)\n",
    "                        done = False\n",
    "                    if has_dep:\n",
    "                        del paths[i_path]\n",
    "                if not has_dep:\n",
    "                    i_path += 1\n",
    "        print('The data flow consists of all the following paths:')\n",
    "        for path in paths:\n",
    "            print(' -> '.join(path))\n",
    "        print()\n",
    "        # compute results in an optimal way\n",
    "        computed = []\n",
    "        done = False\n",
    "        while not done:\n",
    "            done = True\n",
    "            i_path = 0\n",
    "            while i_path < len(paths):\n",
    "                path = paths[i_path]\n",
    "                done2 = False\n",
    "                while not done2:\n",
    "                    if len(path) == 1:\n",
    "                        done2 = True\n",
    "                    else:\n",
    "                        varname = path[1]\n",
    "                        print(f'Looking at variable {varname} in path: {\" -> \".join(path)}')\n",
    "                        done2 = True\n",
    "                        dep = path[0]\n",
    "                        var_last = flow[varname]['in'][dep]\n",
    "                        var_new = self.shell.user_ns[dep]\n",
    "                        if var_last:\n",
    "                            if dep in self.shell.user_ns:\n",
    "                                if var_last[0] != self.shell.user_ns[dep]:\n",
    "                                    changed = True\n",
    "                                    print(f\"Variable {dep} has changed from {var_last[0]} to {var_new}\")\n",
    "                                    var_last[0] = var_new\n",
    "                                else:\n",
    "                                    changed = False\n",
    "                            else:\n",
    "                                changed = True # but variable will be unknown...\n",
    "                                flow[varname]['in'][dep] = []\n",
    "                        else:\n",
    "                            # dependency didn't exist, so a computation is required\n",
    "                            changed = True\n",
    "                            if dep in self.shell.user_ns:\n",
    "                                flow[varname]['in'][dep] = [var_new]\n",
    "                            else:\n",
    "                                # variable will be unknown...\n",
    "                                pass\n",
    "                        if (len(path) > 1) and ((varname in computed) or (not changed)):\n",
    "                            # variable has not changed, or the computation has already been done.\n",
    "                            # this path does not need to re-compute the next variable.\n",
    "                            # other paths might need to, this ensures that if any input changes\n",
    "                            # the outputs are re-computed.\n",
    "                            print('No computation required\\n')\n",
    "                            del path[0]\n",
    "                            if len(path) == 1:\n",
    "                                done2 = True\n",
    "                            else:\n",
    "                                done2 = False\n",
    "                if len(path) == 1:\n",
    "                    # target variable does not need to be re-computed through this path, then delete the path\n",
    "                    del paths[i_path]\n",
    "                else:\n",
    "                    # next variable must be re-computed, but we need to update all its dependencies before\n",
    "                    # doing the computation, otherwise the computation will be done several times.\n",
    "                    other_paths = [p for i, p in enumerate(paths) if i != i_path]\n",
    "                    do_compute = True\n",
    "                    for p in other_paths:\n",
    "                        if varname in p:\n",
    "                            i = p.index(varname)\n",
    "                            if i != 0:\n",
    "                                print(f'Variable {varname} is also in path: {\" -> \".join(p)}')\n",
    "                                # variable has another dependency, through another path\n",
    "                                if i > 1:\n",
    "                                    # and this dependency has dependencies, so let's update them first.\n",
    "                                    # this means forgetting this path for now, we will come back to it later.\n",
    "                                    print('And other variables have to be computed first')\n",
    "                                    done = False\n",
    "                                    do_compute = False\n",
    "                                    break\n",
    "                                else:\n",
    "                                    print(\"Which doesn't prevent computing it\")\n",
    "                    if do_compute:\n",
    "                        # do the computation\n",
    "                        print('Computing:')\n",
    "                        print(flow[varname]['code'])\n",
    "                        self.shell.ex(flow[varname]['code'])\n",
    "                        computed += flow[varname]['out']\n",
    "                        del path[0]\n",
    "                    i_path += 1\n",
    "                    print()\n",
    "        print('All done!')\n",
    "        if cell:\n",
    "            self.shell.ex(cell)\n",
    "\n",
    "ip = get_ipython()\n",
    "ip.register_magics(Flow)"
   ]
  },
  {
   "cell_type": "code",
   "execution_count": 2,
   "metadata": {},
   "outputs": [],
   "source": [
    "# initialization\n",
    "\n",
    "a = 2"
   ]
  },
  {
   "cell_type": "markdown",
   "metadata": {},
   "source": [
    "### Any change in the value of `a` will cause `b` to be re-computed:"
   ]
  },
  {
   "cell_type": "code",
   "execution_count": 3,
   "metadata": {},
   "outputs": [],
   "source": [
    "%%onchange a -> b\n",
    "b = a - 1"
   ]
  },
  {
   "cell_type": "markdown",
   "metadata": {},
   "source": [
    "### Any change in the value of `a` or `b` will cause `c` and `d` to be re-computed:"
   ]
  },
  {
   "cell_type": "code",
   "execution_count": 4,
   "metadata": {},
   "outputs": [],
   "source": [
    "%%onchange a, b -> c, d\n",
    "c = a + b\n",
    "d = a - b"
   ]
  },
  {
   "cell_type": "markdown",
   "metadata": {},
   "source": [
    "### Until now no computation did actually take place. It has to be explicitely asked for through the `compute` magic function, which will figure out the optimal way to compute the results:"
   ]
  },
  {
   "cell_type": "code",
   "execution_count": 5,
   "metadata": {},
   "outputs": [
    {
     "name": "stdout",
     "output_type": "stream",
     "text": [
      "The data flow consists of all the following paths:\n",
      "a -> c\n",
      "a -> d\n",
      "a -> b -> c\n",
      "a -> b -> d\n",
      "\n",
      "Looking at variable c in path: a -> c\n",
      "Variable c is also in path: a -> b -> c\n",
      "And other variables have to be computed first\n",
      "\n",
      "Looking at variable d in path: a -> d\n",
      "Variable d is also in path: a -> b -> d\n",
      "And other variables have to be computed first\n",
      "\n",
      "Looking at variable b in path: a -> b -> c\n",
      "Variable b is also in path: a -> b -> d\n",
      "Which doesn't prevent computing it\n",
      "Computing:\n",
      "b = a - 1\n",
      "\n",
      "Looking at variable b in path: a -> b -> d\n",
      "No computation required\n",
      "\n",
      "Looking at variable d in path: b -> d\n",
      "Variable d is also in path: a -> d\n",
      "Which doesn't prevent computing it\n",
      "Computing:\n",
      "c = a + b\n",
      "d = a - b\n",
      "\n",
      "Looking at variable c in path: a -> c\n",
      "No computation required\n",
      "\n",
      "Looking at variable d in path: a -> d\n",
      "No computation required\n",
      "\n",
      "Looking at variable c in path: b -> c\n",
      "No computation required\n",
      "\n",
      "All done!\n",
      "\n",
      "c = 3\n",
      "d = 1\n"
     ]
    }
   ],
   "source": [
    "%%compute c, d\n",
    "print()\n",
    "print(f'c = {c}')\n",
    "print(f'd = {d}')"
   ]
  },
  {
   "cell_type": "markdown",
   "metadata": {},
   "source": [
    "### If no dependency changed, there will be actually no computation:"
   ]
  },
  {
   "cell_type": "code",
   "execution_count": 6,
   "metadata": {},
   "outputs": [
    {
     "name": "stdout",
     "output_type": "stream",
     "text": [
      "The data flow consists of all the following paths:\n",
      "a -> c\n",
      "a -> d\n",
      "a -> b -> c\n",
      "a -> b -> d\n",
      "\n",
      "Looking at variable c in path: a -> c\n",
      "No computation required\n",
      "\n",
      "Looking at variable d in path: a -> d\n",
      "No computation required\n",
      "\n",
      "Looking at variable b in path: a -> b -> c\n",
      "No computation required\n",
      "\n",
      "Looking at variable c in path: b -> c\n",
      "No computation required\n",
      "\n",
      "Looking at variable b in path: a -> b -> d\n",
      "No computation required\n",
      "\n",
      "Looking at variable d in path: b -> d\n",
      "No computation required\n",
      "\n",
      "All done!\n",
      "\n",
      "c = 3\n",
      "d = 1\n"
     ]
    }
   ],
   "source": [
    "%%compute c, d\n",
    "print()\n",
    "print(f'c = {c}')\n",
    "print(f'd = {d}')"
   ]
  },
  {
   "cell_type": "markdown",
   "metadata": {},
   "source": [
    "### But a change in the dependencies will cause some or all the variables to be re-computed:"
   ]
  },
  {
   "cell_type": "code",
   "execution_count": 7,
   "metadata": {},
   "outputs": [],
   "source": [
    "a = 3"
   ]
  },
  {
   "cell_type": "code",
   "execution_count": 8,
   "metadata": {},
   "outputs": [
    {
     "name": "stdout",
     "output_type": "stream",
     "text": [
      "The data flow consists of all the following paths:\n",
      "a -> c\n",
      "a -> d\n",
      "a -> b -> c\n",
      "a -> b -> d\n",
      "\n",
      "Looking at variable c in path: a -> c\n",
      "Variable a has changed from 2 to 3\n",
      "Variable c is also in path: a -> b -> c\n",
      "And other variables have to be computed first\n",
      "\n",
      "Looking at variable d in path: a -> d\n",
      "Variable a has changed from 2 to 3\n",
      "Variable d is also in path: a -> b -> d\n",
      "And other variables have to be computed first\n",
      "\n",
      "Looking at variable b in path: a -> b -> c\n",
      "Variable a has changed from 2 to 3\n",
      "Variable b is also in path: a -> b -> d\n",
      "Which doesn't prevent computing it\n",
      "Computing:\n",
      "b = a - 1\n",
      "\n",
      "Looking at variable b in path: a -> b -> d\n",
      "No computation required\n",
      "\n",
      "Looking at variable d in path: b -> d\n",
      "Variable b has changed from 1 to 2\n",
      "Variable d is also in path: a -> d\n",
      "Which doesn't prevent computing it\n",
      "Computing:\n",
      "c = a + b\n",
      "d = a - b\n",
      "\n",
      "Looking at variable c in path: a -> c\n",
      "No computation required\n",
      "\n",
      "Looking at variable d in path: a -> d\n",
      "No computation required\n",
      "\n",
      "Looking at variable c in path: b -> c\n",
      "Variable b has changed from 1 to 2\n",
      "No computation required\n",
      "\n",
      "All done!\n",
      "\n",
      "c = 5\n",
      "d = 1\n"
     ]
    }
   ],
   "source": [
    "%%compute c, d\n",
    "print()\n",
    "print(f'c = {c}')\n",
    "print(f'd = {d}')"
   ]
  },
  {
   "cell_type": "markdown",
   "metadata": {},
   "source": [
    "### Again, only what is needed is re-computed:"
   ]
  },
  {
   "cell_type": "code",
   "execution_count": 9,
   "metadata": {},
   "outputs": [
    {
     "name": "stdout",
     "output_type": "stream",
     "text": [
      "The data flow consists of all the following paths:\n",
      "a -> c\n",
      "a -> d\n",
      "a -> b -> c\n",
      "a -> b -> d\n",
      "\n",
      "Looking at variable c in path: a -> c\n",
      "No computation required\n",
      "\n",
      "Looking at variable d in path: a -> d\n",
      "No computation required\n",
      "\n",
      "Looking at variable b in path: a -> b -> c\n",
      "No computation required\n",
      "\n",
      "Looking at variable c in path: b -> c\n",
      "No computation required\n",
      "\n",
      "Looking at variable b in path: a -> b -> d\n",
      "No computation required\n",
      "\n",
      "Looking at variable d in path: b -> d\n",
      "No computation required\n",
      "\n",
      "All done!\n",
      "\n",
      "c = 5\n",
      "d = 1\n"
     ]
    }
   ],
   "source": [
    "%%compute c, d\n",
    "print()\n",
    "print(f'c = {c}')\n",
    "print(f'd = {d}')"
   ]
  },
  {
   "cell_type": "code",
   "execution_count": null,
   "metadata": {},
   "outputs": [],
   "source": []
  }
 ],
 "metadata": {
  "kernelspec": {
   "display_name": "Python 3",
   "language": "python",
   "name": "python3"
  },
  "language_info": {
   "codemirror_mode": {
    "name": "ipython",
    "version": 3
   },
   "file_extension": ".py",
   "mimetype": "text/x-python",
   "name": "python",
   "nbconvert_exporter": "python",
   "pygments_lexer": "ipython3",
   "version": "3.6.4"
  }
 },
 "nbformat": 4,
 "nbformat_minor": 2
}
