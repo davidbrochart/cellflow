{
 "cells": [
  {
   "cell_type": "markdown",
   "metadata": {},
   "source": [
    "# A step towards a reactive notebook"
   ]
  },
  {
   "cell_type": "markdown",
   "metadata": {},
   "source": [
    "This is a proof-of-concept for an API that aims to automate the data flow in a notebook. It uses the IPython magic functions `onchange` to specify how variables depend on each other in a cell, and `compute` to get the desired results. The dependency resolution is automatically taken care of, and the computations only occur if needed."
   ]
  },
  {
   "cell_type": "code",
   "execution_count": 1,
   "metadata": {},
   "outputs": [],
   "source": [
    "%load_ext cellflow"
   ]
  },
  {
   "cell_type": "code",
   "execution_count": 2,
   "metadata": {},
   "outputs": [
    {
     "name": "stdout",
     "output_type": "stream",
     "text": [
      "Verbose mode enabled\n"
     ]
    }
   ],
   "source": [
    "%cellflow_configure -v"
   ]
  },
  {
   "cell_type": "code",
   "execution_count": 3,
   "metadata": {},
   "outputs": [],
   "source": [
    "# initialization\n",
    "\n",
    "a = 2"
   ]
  },
  {
   "cell_type": "markdown",
   "metadata": {},
   "source": [
    "Any change in the value of `a` will cause `b` to be re-computed:"
   ]
  },
  {
   "cell_type": "code",
   "execution_count": 4,
   "metadata": {},
   "outputs": [],
   "source": [
    "%%onchange a -> b\n",
    "b = a - 1"
   ]
  },
  {
   "cell_type": "markdown",
   "metadata": {},
   "source": [
    "Any change in the value of `a` or `b` will cause `c` and `d` to be re-computed:"
   ]
  },
  {
   "cell_type": "code",
   "execution_count": 5,
   "metadata": {},
   "outputs": [],
   "source": [
    "%%onchange a, b -> c, d\n",
    "c = a + b\n",
    "d = a - b"
   ]
  },
  {
   "cell_type": "markdown",
   "metadata": {},
   "source": [
    "Until now no computation did actually take place. It has to be explicitely asked for through the `compute` magic function, which will figure out the optimal way to compute the results:"
   ]
  },
  {
   "cell_type": "code",
   "execution_count": 6,
   "metadata": {},
   "outputs": [
    {
     "name": "stdout",
     "output_type": "stream",
     "text": [
      "The data flow consists of the following paths:\n",
      "a -> c\n",
      "a -> d\n",
      "a -> b -> c\n",
      "a -> b -> d\n",
      "\n",
      "Looking at target variable c in path: a -> c\n",
      "Variable c is also in path: a -> b -> c\n",
      "And other variables have to be computed first\n",
      "\n",
      "Looking at target variable d in path: a -> d\n",
      "Variable d is also in path: a -> b -> d\n",
      "And other variables have to be computed first\n",
      "\n",
      "Looking at target variable b in path: a -> b -> c\n",
      "Variable b is also in path: a -> b -> d\n",
      "Which doesn't prevent computing it\n",
      "Variable a has changed\n",
      "Computing:\n",
      "b = a - 1\n",
      "\n",
      "Looking at target variable b in path: a -> b -> d\n",
      "No change in dependencies\n",
      "\n",
      "Looking at target variable c in path: a -> c\n",
      "Variable c is also in path: b -> c\n",
      "Which doesn't prevent computing it\n",
      "Variable a has changed\n",
      "Computing:\n",
      "c = a + b\n",
      "d = a - b\n",
      "\n",
      "Looking at target variable d in path: a -> d\n",
      "Variable d is also in path: b -> d\n",
      "Which doesn't prevent computing it\n",
      "No change in dependencies\n",
      "\n",
      "Looking at target variable c in path: b -> c\n",
      "No change in dependencies\n",
      "\n",
      "Looking at target variable d in path: b -> d\n",
      "No change in dependencies\n",
      "\n",
      "All done!\n",
      "\n",
      "c = 3\n",
      "d = 1\n"
     ]
    }
   ],
   "source": [
    "%%compute c, d\n",
    "print()\n",
    "print(f'c = {c}')\n",
    "print(f'd = {d}')"
   ]
  },
  {
   "cell_type": "markdown",
   "metadata": {},
   "source": [
    "If no dependency has changed, there will actually be no computation:"
   ]
  },
  {
   "cell_type": "code",
   "execution_count": 7,
   "metadata": {},
   "outputs": [
    {
     "name": "stdout",
     "output_type": "stream",
     "text": [
      "The data flow consists of the following paths:\n",
      "a -> c\n",
      "a -> d\n",
      "a -> b -> c\n",
      "a -> b -> d\n",
      "\n",
      "Looking at target variable c in path: a -> c\n",
      "Variable c is also in path: a -> b -> c\n",
      "And other variables have to be computed first\n",
      "\n",
      "Looking at target variable d in path: a -> d\n",
      "Variable d is also in path: a -> b -> d\n",
      "And other variables have to be computed first\n",
      "\n",
      "Looking at target variable b in path: a -> b -> c\n",
      "Variable b is also in path: a -> b -> d\n",
      "Which doesn't prevent computing it\n",
      "No change in dependencies\n",
      "\n",
      "Looking at target variable b in path: a -> b -> d\n",
      "No change in dependencies\n",
      "\n",
      "Looking at target variable c in path: a -> c\n",
      "Variable c is also in path: b -> c\n",
      "Which doesn't prevent computing it\n",
      "No change in dependencies\n",
      "\n",
      "Looking at target variable d in path: a -> d\n",
      "Variable d is also in path: b -> d\n",
      "Which doesn't prevent computing it\n",
      "No change in dependencies\n",
      "\n",
      "Looking at target variable c in path: b -> c\n",
      "No change in dependencies\n",
      "\n",
      "Looking at target variable d in path: b -> d\n",
      "No change in dependencies\n",
      "\n",
      "All done!\n",
      "\n",
      "c = 3\n",
      "d = 1\n"
     ]
    }
   ],
   "source": [
    "%%compute c, d\n",
    "print()\n",
    "print(f'c = {c}')\n",
    "print(f'd = {d}')"
   ]
  },
  {
   "cell_type": "markdown",
   "metadata": {},
   "source": [
    "But a change in the dependencies will cause some or all the variables to be re-computed:"
   ]
  },
  {
   "cell_type": "code",
   "execution_count": 8,
   "metadata": {},
   "outputs": [],
   "source": [
    "a = 3"
   ]
  },
  {
   "cell_type": "code",
   "execution_count": 9,
   "metadata": {},
   "outputs": [
    {
     "name": "stdout",
     "output_type": "stream",
     "text": [
      "The data flow consists of the following paths:\n",
      "a -> c\n",
      "a -> d\n",
      "a -> b -> c\n",
      "a -> b -> d\n",
      "\n",
      "Looking at target variable c in path: a -> c\n",
      "Variable c is also in path: a -> b -> c\n",
      "And other variables have to be computed first\n",
      "\n",
      "Looking at target variable d in path: a -> d\n",
      "Variable d is also in path: a -> b -> d\n",
      "And other variables have to be computed first\n",
      "\n",
      "Looking at target variable b in path: a -> b -> c\n",
      "Variable b is also in path: a -> b -> d\n",
      "Which doesn't prevent computing it\n",
      "Variable a has changed\n",
      "Computing:\n",
      "b = a - 1\n",
      "\n",
      "Looking at target variable b in path: a -> b -> d\n",
      "No change in dependencies\n",
      "\n",
      "Looking at target variable c in path: a -> c\n",
      "Variable c is also in path: b -> c\n",
      "Which doesn't prevent computing it\n",
      "Variable a has changed\n",
      "Computing:\n",
      "c = a + b\n",
      "d = a - b\n",
      "\n",
      "Looking at target variable d in path: a -> d\n",
      "Variable d is also in path: b -> d\n",
      "Which doesn't prevent computing it\n",
      "No change in dependencies\n",
      "\n",
      "Looking at target variable c in path: b -> c\n",
      "No change in dependencies\n",
      "\n",
      "Looking at target variable d in path: b -> d\n",
      "No change in dependencies\n",
      "\n",
      "All done!\n",
      "\n",
      "c = 5\n",
      "d = 1\n"
     ]
    }
   ],
   "source": [
    "%%compute c, d\n",
    "print()\n",
    "print(f'c = {c}')\n",
    "print(f'd = {d}')"
   ]
  },
  {
   "cell_type": "markdown",
   "metadata": {},
   "source": [
    "Again, only what is needed is re-computed:"
   ]
  },
  {
   "cell_type": "code",
   "execution_count": 10,
   "metadata": {},
   "outputs": [
    {
     "name": "stdout",
     "output_type": "stream",
     "text": [
      "The data flow consists of the following paths:\n",
      "a -> c\n",
      "a -> d\n",
      "a -> b -> c\n",
      "a -> b -> d\n",
      "\n",
      "Looking at target variable c in path: a -> c\n",
      "Variable c is also in path: a -> b -> c\n",
      "And other variables have to be computed first\n",
      "\n",
      "Looking at target variable d in path: a -> d\n",
      "Variable d is also in path: a -> b -> d\n",
      "And other variables have to be computed first\n",
      "\n",
      "Looking at target variable b in path: a -> b -> c\n",
      "Variable b is also in path: a -> b -> d\n",
      "Which doesn't prevent computing it\n",
      "No change in dependencies\n",
      "\n",
      "Looking at target variable b in path: a -> b -> d\n",
      "No change in dependencies\n",
      "\n",
      "Looking at target variable c in path: a -> c\n",
      "Variable c is also in path: b -> c\n",
      "Which doesn't prevent computing it\n",
      "No change in dependencies\n",
      "\n",
      "Looking at target variable d in path: a -> d\n",
      "Variable d is also in path: b -> d\n",
      "Which doesn't prevent computing it\n",
      "No change in dependencies\n",
      "\n",
      "Looking at target variable c in path: b -> c\n",
      "No change in dependencies\n",
      "\n",
      "Looking at target variable d in path: b -> d\n",
      "No change in dependencies\n",
      "\n",
      "All done!\n",
      "\n",
      "c = 5\n",
      "d = 1\n"
     ]
    }
   ],
   "source": [
    "%%compute c, d\n",
    "print()\n",
    "print(f'c = {c}')\n",
    "print(f'd = {d}')"
   ]
  },
  {
   "cell_type": "markdown",
   "metadata": {},
   "source": [
    "The data flow can be hacked. Here we modify the intermediary variable `b` (that should automatically be computed as `b = a - 1`), which will cause the final results to be re-computed:"
   ]
  },
  {
   "cell_type": "code",
   "execution_count": 11,
   "metadata": {},
   "outputs": [],
   "source": [
    "b = 10"
   ]
  },
  {
   "cell_type": "code",
   "execution_count": 12,
   "metadata": {},
   "outputs": [
    {
     "name": "stdout",
     "output_type": "stream",
     "text": [
      "The data flow consists of the following paths:\n",
      "a -> c\n",
      "a -> b -> c\n",
      "\n",
      "Looking at target variable c in path: a -> c\n",
      "Variable c is also in path: a -> b -> c\n",
      "And other variables have to be computed first\n",
      "\n",
      "Looking at target variable b in path: a -> b -> c\n",
      "No change in dependencies\n",
      "\n",
      "Looking at target variable c in path: a -> c\n",
      "Variable c is also in path: b -> c\n",
      "Which doesn't prevent computing it\n",
      "No change in dependencies\n",
      "\n",
      "Looking at target variable c in path: b -> c\n",
      "Variable b has changed\n",
      "Computing:\n",
      "c = a + b\n",
      "d = a - b\n",
      "\n",
      "All done!\n",
      "\n",
      "c = 13\n",
      "d = -7\n"
     ]
    }
   ],
   "source": [
    "%%compute c\n",
    "print()\n",
    "print(f'c = {c}')\n",
    "print(f'd = {d}')"
   ]
  },
  {
   "cell_type": "code",
   "execution_count": 13,
   "metadata": {},
   "outputs": [
    {
     "name": "stdout",
     "output_type": "stream",
     "text": [
      "The data flow consists of the following paths:\n",
      "a -> d\n",
      "a -> b -> d\n",
      "\n",
      "Looking at target variable d in path: a -> d\n",
      "Variable d is also in path: a -> b -> d\n",
      "And other variables have to be computed first\n",
      "\n",
      "Looking at target variable b in path: a -> b -> d\n",
      "No change in dependencies\n",
      "\n",
      "Looking at target variable d in path: a -> d\n",
      "Variable d is also in path: b -> d\n",
      "Which doesn't prevent computing it\n",
      "No change in dependencies\n",
      "\n",
      "Looking at target variable d in path: b -> d\n",
      "No change in dependencies\n",
      "\n",
      "All done!\n",
      "\n",
      "c = 13\n",
      "d = -7\n"
     ]
    }
   ],
   "source": [
    "%%compute d\n",
    "print()\n",
    "print(f'c = {c}')\n",
    "print(f'd = {d}')"
   ]
  },
  {
   "cell_type": "code",
   "execution_count": null,
   "metadata": {},
   "outputs": [],
   "source": []
  }
 ],
 "metadata": {
  "kernelspec": {
   "display_name": "Python 3",
   "language": "python",
   "name": "python3"
  },
  "language_info": {
   "codemirror_mode": {
    "name": "ipython",
    "version": 3
   },
   "file_extension": ".py",
   "mimetype": "text/x-python",
   "name": "python",
   "nbconvert_exporter": "python",
   "pygments_lexer": "ipython3",
   "version": "3.6.4"
  }
 },
 "nbformat": 4,
 "nbformat_minor": 2
}
